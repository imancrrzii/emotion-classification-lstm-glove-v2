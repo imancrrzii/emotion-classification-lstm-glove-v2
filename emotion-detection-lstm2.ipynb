{
 "cells": [
  {
   "cell_type": "code",
   "execution_count": 1,
   "metadata": {},
   "outputs": [],
   "source": [
    "import re\n",
    "import string\n",
    "import numpy as np\n",
    "import pandas as pd\n",
    "import matplotlib.pyplot as plt\n",
    "import nltk\n",
    "from nltk.corpus import stopwords\n",
    "from nltk.tokenize import word_tokenize\n",
    "from nltk.stem import WordNetLemmatizer\n",
    "\n",
    "from sklearn.preprocessing import LabelEncoder\n",
    "from sklearn.model_selection import train_test_split\n",
    "\n",
    "from tensorflow.keras.utils import to_categorical\n",
    "from tensorflow.keras.preprocessing.text import Tokenizer\n",
    "from tensorflow.keras.preprocessing.sequence import pad_sequences\n",
    "\n",
    "from tensorflow.keras.optimizers import Adam\n",
    "from tensorflow.keras.models import Sequential\n",
    "from tensorflow.keras.callbacks import EarlyStopping\n",
    "from tensorflow.keras.layers import Dense, LSTM, Embedding, Bidirectional"
   ]
  },
  {
   "cell_type": "code",
   "execution_count": 2,
   "metadata": {},
   "outputs": [
    {
     "name": "stderr",
     "output_type": "stream",
     "text": [
      "[nltk_data] Downloading package punkt to\n",
      "[nltk_data]     C:\\Users\\User\\AppData\\Roaming\\nltk_data...\n",
      "[nltk_data]   Package punkt is already up-to-date!\n",
      "[nltk_data] Downloading package wordnet to\n",
      "[nltk_data]     C:\\Users\\User\\AppData\\Roaming\\nltk_data...\n",
      "[nltk_data]   Package wordnet is already up-to-date!\n",
      "[nltk_data] Downloading package stopwords to\n",
      "[nltk_data]     C:\\Users\\User\\AppData\\Roaming\\nltk_data...\n",
      "[nltk_data]   Package stopwords is already up-to-date!\n"
     ]
    }
   ],
   "source": [
    "# Text preprocessing function\n",
    "nltk.download('punkt')\n",
    "nltk.download('wordnet')\n",
    "nltk.download('stopwords')\n",
    "\n",
    "stop_words = set(stopwords.words('english'))\n",
    "lemmatizer = WordNetLemmatizer()\n",
    "\n",
    "str_punc = string.punctuation.replace(',', '').replace(\"'\",'')\n",
    "\n",
    "def clean(text):\n",
    "    global str_punc\n",
    "    text = re.sub(r'[^a-zA-Z\\s]', '', text)  # Remove punctuations except spaces\n",
    "    text = text.lower()\n",
    "    return text    \n",
    "\n",
    "def preprocess_text(text):\n",
    "    # Lowercasing\n",
    "    text = clean(text)\n",
    "    # Tokenization\n",
    "    tokens = word_tokenize(text)\n",
    "    # Removing stopwords\n",
    "    tokens = [word for word in tokens if word not in stop_words]\n",
    "    # Lemmatization\n",
    "    tokens = [lemmatizer.lemmatize(word) for word in tokens]\n",
    "    return ' '.join(tokens)"
   ]
  },
  {
   "cell_type": "code",
   "execution_count": 23,
   "metadata": {},
   "outputs": [],
   "source": [
    "# Read dataset & Preprocess text\n",
    "df_train = pd.read_csv('dataset-emotion/train.txt', names=['Text', 'Emotion'], sep=';')\n",
    "df_val = pd.read_csv('dataset-emotion/val.txt', names=['Text', 'Emotion'], sep=';')\n",
    "df_test = pd.read_csv('dataset-emotion/test.txt', names=['Text', 'Emotion'], sep=';')"
   ]
  },
  {
   "cell_type": "code",
   "execution_count": 24,
   "metadata": {},
   "outputs": [],
   "source": [
    "# Preprocess text\n",
    "df_train['Text_clean'] = df_train['Text'].apply(preprocess_text)\n",
    "df_val['Text_clean'] = df_val['Text'].apply(preprocess_text)\n",
    "df_test['Text_clean'] = df_test['Text'].apply(preprocess_text)"
   ]
  },
  {
   "cell_type": "code",
   "execution_count": 37,
   "metadata": {},
   "outputs": [
    {
     "data": {
      "text/html": [
       "<div>\n",
       "<style scoped>\n",
       "    .dataframe tbody tr th:only-of-type {\n",
       "        vertical-align: middle;\n",
       "    }\n",
       "\n",
       "    .dataframe tbody tr th {\n",
       "        vertical-align: top;\n",
       "    }\n",
       "\n",
       "    .dataframe thead th {\n",
       "        text-align: right;\n",
       "    }\n",
       "</style>\n",
       "<table border=\"1\" class=\"dataframe\">\n",
       "  <thead>\n",
       "    <tr style=\"text-align: right;\">\n",
       "      <th></th>\n",
       "      <th>Emotion</th>\n",
       "      <th>Text_clean</th>\n",
       "    </tr>\n",
       "  </thead>\n",
       "  <tbody>\n",
       "    <tr>\n",
       "      <th>0</th>\n",
       "      <td>sadness</td>\n",
       "      <td>didnt feel humiliated</td>\n",
       "    </tr>\n",
       "    <tr>\n",
       "      <th>1</th>\n",
       "      <td>sadness</td>\n",
       "      <td>go feeling hopeless damned hopeful around some...</td>\n",
       "    </tr>\n",
       "    <tr>\n",
       "      <th>2</th>\n",
       "      <td>anger</td>\n",
       "      <td>im grabbing minute post feel greedy wrong</td>\n",
       "    </tr>\n",
       "    <tr>\n",
       "      <th>3</th>\n",
       "      <td>love</td>\n",
       "      <td>ever feeling nostalgic fireplace know still pr...</td>\n",
       "    </tr>\n",
       "    <tr>\n",
       "      <th>4</th>\n",
       "      <td>anger</td>\n",
       "      <td>feeling grouchy</td>\n",
       "    </tr>\n",
       "    <tr>\n",
       "      <th>5</th>\n",
       "      <td>sadness</td>\n",
       "      <td>ive feeling little burdened lately wasnt sure</td>\n",
       "    </tr>\n",
       "    <tr>\n",
       "      <th>6</th>\n",
       "      <td>surprise</td>\n",
       "      <td>ive taking milligram time recommended amount i...</td>\n",
       "    </tr>\n",
       "    <tr>\n",
       "      <th>7</th>\n",
       "      <td>fear</td>\n",
       "      <td>feel confused life teenager jaded year old man</td>\n",
       "    </tr>\n",
       "    <tr>\n",
       "      <th>8</th>\n",
       "      <td>joy</td>\n",
       "      <td>petronas year feel petronas performed well mad...</td>\n",
       "    </tr>\n",
       "    <tr>\n",
       "      <th>9</th>\n",
       "      <td>love</td>\n",
       "      <td>feel romantic</td>\n",
       "    </tr>\n",
       "  </tbody>\n",
       "</table>\n",
       "</div>"
      ],
      "text/plain": [
       "    Emotion                                         Text_clean\n",
       "0   sadness                              didnt feel humiliated\n",
       "1   sadness  go feeling hopeless damned hopeful around some...\n",
       "2     anger          im grabbing minute post feel greedy wrong\n",
       "3      love  ever feeling nostalgic fireplace know still pr...\n",
       "4     anger                                    feeling grouchy\n",
       "5   sadness      ive feeling little burdened lately wasnt sure\n",
       "6  surprise  ive taking milligram time recommended amount i...\n",
       "7      fear     feel confused life teenager jaded year old man\n",
       "8       joy  petronas year feel petronas performed well mad...\n",
       "9      love                                      feel romantic"
      ]
     },
     "execution_count": 37,
     "metadata": {},
     "output_type": "execute_result"
    }
   ],
   "source": [
    "df_train[['Emotion', 'Text_clean']].head(10)"
   ]
  },
  {
   "cell_type": "code",
   "execution_count": 39,
   "metadata": {},
   "outputs": [
    {
     "data": {
      "text/html": [
       "<div>\n",
       "<style scoped>\n",
       "    .dataframe tbody tr th:only-of-type {\n",
       "        vertical-align: middle;\n",
       "    }\n",
       "\n",
       "    .dataframe tbody tr th {\n",
       "        vertical-align: top;\n",
       "    }\n",
       "\n",
       "    .dataframe thead th {\n",
       "        text-align: right;\n",
       "    }\n",
       "</style>\n",
       "<table border=\"1\" class=\"dataframe\">\n",
       "  <thead>\n",
       "    <tr style=\"text-align: right;\">\n",
       "      <th></th>\n",
       "      <th>Emotion</th>\n",
       "      <th>Text_clean</th>\n",
       "    </tr>\n",
       "  </thead>\n",
       "  <tbody>\n",
       "    <tr>\n",
       "      <th>15990</th>\n",
       "      <td>joy</td>\n",
       "      <td>feel really glad dont look like celebrity beau...</td>\n",
       "    </tr>\n",
       "    <tr>\n",
       "      <th>15991</th>\n",
       "      <td>sadness</td>\n",
       "      <td>wanted perhaps convey feeling matter instead t...</td>\n",
       "    </tr>\n",
       "    <tr>\n",
       "      <th>15992</th>\n",
       "      <td>anger</td>\n",
       "      <td>moved away said something made feel violent so...</td>\n",
       "    </tr>\n",
       "    <tr>\n",
       "      <th>15993</th>\n",
       "      <td>joy</td>\n",
       "      <td>day feel like braeden calvin happy successful day</td>\n",
       "    </tr>\n",
       "    <tr>\n",
       "      <th>15994</th>\n",
       "      <td>love</td>\n",
       "      <td>feel sympathetic empathetic towards</td>\n",
       "    </tr>\n",
       "    <tr>\n",
       "      <th>15995</th>\n",
       "      <td>sadness</td>\n",
       "      <td>brief time beanbag said anna feel like beaten</td>\n",
       "    </tr>\n",
       "    <tr>\n",
       "      <th>15996</th>\n",
       "      <td>sadness</td>\n",
       "      <td>turning feel pathetic still waiting table subb...</td>\n",
       "    </tr>\n",
       "    <tr>\n",
       "      <th>15997</th>\n",
       "      <td>joy</td>\n",
       "      <td>feel strong good overall</td>\n",
       "    </tr>\n",
       "    <tr>\n",
       "      <th>15998</th>\n",
       "      <td>anger</td>\n",
       "      <td>feel like rude comment im glad</td>\n",
       "    </tr>\n",
       "    <tr>\n",
       "      <th>15999</th>\n",
       "      <td>sadness</td>\n",
       "      <td>know lot feel stupid portray</td>\n",
       "    </tr>\n",
       "  </tbody>\n",
       "</table>\n",
       "</div>"
      ],
      "text/plain": [
       "       Emotion                                         Text_clean\n",
       "15990      joy  feel really glad dont look like celebrity beau...\n",
       "15991  sadness  wanted perhaps convey feeling matter instead t...\n",
       "15992    anger  moved away said something made feel violent so...\n",
       "15993      joy  day feel like braeden calvin happy successful day\n",
       "15994     love                feel sympathetic empathetic towards\n",
       "15995  sadness      brief time beanbag said anna feel like beaten\n",
       "15996  sadness  turning feel pathetic still waiting table subb...\n",
       "15997      joy                           feel strong good overall\n",
       "15998    anger                     feel like rude comment im glad\n",
       "15999  sadness                       know lot feel stupid portray"
      ]
     },
     "execution_count": 39,
     "metadata": {},
     "output_type": "execute_result"
    }
   ],
   "source": [
    "df_train[['Emotion', 'Text_clean']].tail(10)"
   ]
  },
  {
   "cell_type": "code",
   "execution_count": 40,
   "metadata": {},
   "outputs": [
    {
     "data": {
      "text/html": [
       "<div>\n",
       "<style scoped>\n",
       "    .dataframe tbody tr th:only-of-type {\n",
       "        vertical-align: middle;\n",
       "    }\n",
       "\n",
       "    .dataframe tbody tr th {\n",
       "        vertical-align: top;\n",
       "    }\n",
       "\n",
       "    .dataframe thead th {\n",
       "        text-align: right;\n",
       "    }\n",
       "</style>\n",
       "<table border=\"1\" class=\"dataframe\">\n",
       "  <thead>\n",
       "    <tr style=\"text-align: right;\">\n",
       "      <th></th>\n",
       "      <th>Emotion</th>\n",
       "      <th>Text_clean</th>\n",
       "    </tr>\n",
       "  </thead>\n",
       "  <tbody>\n",
       "    <tr>\n",
       "      <th>8756</th>\n",
       "      <td>sadness</td>\n",
       "      <td>ive made week feel beaten</td>\n",
       "    </tr>\n",
       "    <tr>\n",
       "      <th>4660</th>\n",
       "      <td>joy</td>\n",
       "      <td>feel strategy worthwhile</td>\n",
       "    </tr>\n",
       "    <tr>\n",
       "      <th>6095</th>\n",
       "      <td>sadness</td>\n",
       "      <td>feel worthless weak say want find</td>\n",
       "    </tr>\n",
       "    <tr>\n",
       "      <th>304</th>\n",
       "      <td>joy</td>\n",
       "      <td>feel clever nov</td>\n",
       "    </tr>\n",
       "    <tr>\n",
       "      <th>8241</th>\n",
       "      <td>sadness</td>\n",
       "      <td>im moved ive feeling kind gloomy</td>\n",
       "    </tr>\n",
       "    <tr>\n",
       "      <th>9577</th>\n",
       "      <td>sadness</td>\n",
       "      <td>allowed feel really shitty feeling running end...</td>\n",
       "    </tr>\n",
       "    <tr>\n",
       "      <th>1035</th>\n",
       "      <td>fear</td>\n",
       "      <td>feel confused</td>\n",
       "    </tr>\n",
       "    <tr>\n",
       "      <th>9976</th>\n",
       "      <td>sadness</td>\n",
       "      <td>feel like crappy mummy stuck day really cant f...</td>\n",
       "    </tr>\n",
       "    <tr>\n",
       "      <th>7872</th>\n",
       "      <td>love</td>\n",
       "      <td>feel like liked hair much better using sulfate...</td>\n",
       "    </tr>\n",
       "    <tr>\n",
       "      <th>8341</th>\n",
       "      <td>fear</td>\n",
       "      <td>feel self pressured expectation keep date fami...</td>\n",
       "    </tr>\n",
       "  </tbody>\n",
       "</table>\n",
       "</div>"
      ],
      "text/plain": [
       "      Emotion                                         Text_clean\n",
       "8756  sadness                          ive made week feel beaten\n",
       "4660      joy                           feel strategy worthwhile\n",
       "6095  sadness                  feel worthless weak say want find\n",
       "304       joy                                    feel clever nov\n",
       "8241  sadness                   im moved ive feeling kind gloomy\n",
       "9577  sadness  allowed feel really shitty feeling running end...\n",
       "1035     fear                                      feel confused\n",
       "9976  sadness  feel like crappy mummy stuck day really cant f...\n",
       "7872     love  feel like liked hair much better using sulfate...\n",
       "8341     fear  feel self pressured expectation keep date fami..."
      ]
     },
     "execution_count": 40,
     "metadata": {},
     "output_type": "execute_result"
    }
   ],
   "source": [
    "df_train[['Emotion', 'Text_clean']].sample(n=10, random_state=42)"
   ]
  },
  {
   "cell_type": "code",
   "execution_count": 25,
   "metadata": {},
   "outputs": [
    {
     "data": {
      "image/png": "[encoded data removed]",
      "text/plain": [
       "<Figure size 1200x500 with 3 Axes>"
      ]
     },
     "metadata": {},
     "output_type": "display_data"
    }
   ],
   "source": [
    "# Visualize classes counts before filtering out 'surprise' and 'love' classes\n",
    "plt.figure(figsize=(12, 5))\n",
    "\n",
    "plt.subplot(1, 3, 1)\n",
    "plt.bar(df_train['Emotion'].unique(), height=df_train['Emotion'].value_counts(), color=colors)\n",
    "plt.title(\"Training data - classes counts (Before Filtering)\")\n",
    "\n",
    "plt.subplot(1, 3, 2)\n",
    "plt.bar(df_test['Emotion'].unique(), height=df_test['Emotion'].value_counts(), color=colors)\n",
    "plt.title(\"Testing data - classes counts (Before Filtering)\")\n",
    "\n",
    "plt.subplot(1, 3, 3)\n",
    "plt.bar(df_val['Emotion'].unique(), height=df_val['Emotion'].value_counts(), color=colors)\n",
    "plt.title(\"Validation data - classes counts (Before Filtering)\")\n",
    "\n",
    "plt.tight_layout()\n",
    "plt.show()"
   ]
  },
  {
   "cell_type": "code",
   "execution_count": 26,
   "metadata": {},
   "outputs": [],
   "source": [
    "# Filter out 'surprise' and 'love' classes\n",
    "df_train_filtered = df_train[(df_train['Emotion'] != 'surprise') & (df_train['Emotion'] != 'love')]\n",
    "df_test_filtered = df_test[(df_test['Emotion'] != 'surprise') & (df_test['Emotion'] != 'love')]\n",
    "df_val_filtered = df_val[(df_val['Emotion'] != 'surprise') & (df_val['Emotion'] != 'love')]"
   ]
  },
  {
   "cell_type": "code",
   "execution_count": 27,
   "metadata": {},
   "outputs": [
    {
     "data": {
      "image/png": "[encoded data removed]",
      "text/plain": [
       "<Figure size 1200x500 with 3 Axes>"
      ]
     },
     "metadata": {},
     "output_type": "display_data"
    }
   ],
   "source": [
    "# Visualize classes counts after filtering out 'surprise' and 'love' classes\n",
    "plt.figure(figsize=(12, 5))\n",
    "\n",
    "plt.subplot(1, 3, 1)\n",
    "plt.bar(df_train_filtered['Emotion'].unique(), height=df_train_filtered['Emotion'].value_counts(), color=colors)\n",
    "plt.title(\"Training data - classes counts (After Filtering)\")\n",
    "\n",
    "plt.subplot(1, 3, 2)\n",
    "plt.bar(df_test_filtered['Emotion'].unique(), height=df_test_filtered['Emotion'].value_counts(), color=colors)\n",
    "plt.title(\"Testing data - classes counts (After Filtering)\")\n",
    "\n",
    "plt.subplot(1, 3, 3)\n",
    "plt.bar(df_val_filtered['Emotion'].unique(), height=df_val_filtered['Emotion'].value_counts(), color=colors)\n",
    "plt.title(\"Validation data - classes counts (After Filtering)\")\n",
    "\n",
    "plt.tight_layout()\n",
    "plt.show()"
   ]
  },
  {
   "cell_type": "code",
   "execution_count": 28,
   "metadata": {},
   "outputs": [
    {
     "ename": "AttributeError",
     "evalue": "'numpy.ndarray' object has no attribute 'unique'",
     "output_type": "error",
     "traceback": [
      "\u001b[1;31m---------------------------------------------------------------------------\u001b[0m",
      "\u001b[1;31mAttributeError\u001b[0m                            Traceback (most recent call last)",
      "Cell \u001b[1;32mIn[28], line 4\u001b[0m\n\u001b[0;32m      1\u001b[0m \u001b[39m# Visualize classes counts\u001b[39;00m\n\u001b[0;32m      2\u001b[0m colors \u001b[39m=\u001b[39m np\u001b[39m.\u001b[39marray([\u001b[39m\"\u001b[39m\u001b[39mgray\u001b[39m\u001b[39m\"\u001b[39m, \u001b[39m'\u001b[39m\u001b[39morangered\u001b[39m\u001b[39m'\u001b[39m, \u001b[39m'\u001b[39m\u001b[39mhotpink\u001b[39m\u001b[39m'\u001b[39m, \u001b[39m'\u001b[39m\u001b[39mgold\u001b[39m\u001b[39m'\u001b[39m, \u001b[39m'\u001b[39m\u001b[39mteal\u001b[39m\u001b[39m'\u001b[39m, \u001b[39m'\u001b[39m\u001b[39mcornflowerblue\u001b[39m\u001b[39m'\u001b[39m])\n\u001b[1;32m----> 4\u001b[0m plt\u001b[39m.\u001b[39mbar(y_train\u001b[39m.\u001b[39;49munique(),height\u001b[39m=\u001b[39my_train\u001b[39m.\u001b[39mvalue_counts(), color\u001b[39m=\u001b[39mcolors)\n\u001b[0;32m      5\u001b[0m plt\u001b[39m.\u001b[39mtitle(\u001b[39m\"\u001b[39m\u001b[39mTraining data - classes counts\u001b[39m\u001b[39m\"\u001b[39m)\n\u001b[0;32m      6\u001b[0m plt\u001b[39m.\u001b[39mshow()\n",
      "\u001b[1;31mAttributeError\u001b[0m: 'numpy.ndarray' object has no attribute 'unique'"
     ]
    }
   ],
   "source": [
    "# # Visualize classes counts\n",
    "# colors = np.array([\"gray\", 'orangered', 'hotpink', 'gold', 'teal', 'cornflowerblue'])\n",
    "\n",
    "# plt.bar(y_train.unique(),height=y_train.value_counts(), color=colors)\n",
    "# plt.title(\"Training data - classes counts\")\n",
    "# plt.show()\n",
    "\n",
    "# plt.bar(y_test.unique(),height=y_test.value_counts(), color=colors)\n",
    "# plt.title(\"Testing data - classes counts\")\n",
    "# plt.show()\n",
    "\n",
    "# plt.bar(y_val.unique(),height=y_val.value_counts(), color=colors)\n",
    "# plt.title(\"Validation data - classes counts\")\n",
    "# plt.show()"
   ]
  },
  {
   "cell_type": "code",
   "execution_count": 6,
   "metadata": {},
   "outputs": [],
   "source": [
    "# Encode labels\n",
    "\n",
    "le = LabelEncoder()\n",
    "y_train = le.fit_transform(y_train)\n",
    "y_test = le.transform(y_test)\n",
    "y_val = le.transform(y_val)\n",
    "\n",
    "y_train = to_categorical(y_train)\n",
    "y_test = to_categorical(y_test)\n",
    "y_val = to_categorical(y_val)"
   ]
  },
  {
   "cell_type": "code",
   "execution_count": 7,
   "metadata": {},
   "outputs": [
    {
     "name": "stdout",
     "output_type": "stream",
     "text": [
      "Vocabulary size = 13256\n"
     ]
    }
   ],
   "source": [
    "# Tokenize words\n",
    "tokenizer = Tokenizer()\n",
    "tokenizer.fit_on_texts(pd.concat([X_train, X_test], axis=0))\n",
    "\n",
    "\n",
    "sequences_train = tokenizer.texts_to_sequences(X_train)\n",
    "sequences_test = tokenizer.texts_to_sequences(X_test)\n",
    "sequences_val = tokenizer.texts_to_sequences(X_val)\n",
    "\n",
    "X_train = pad_sequences(sequences_train, maxlen=256, truncating='pre')\n",
    "X_test = pad_sequences(sequences_test, maxlen=256, truncating='pre')\n",
    "X_val = pad_sequences(sequences_val, maxlen=256, truncating='pre')\n",
    "\n",
    "vocabSize = len(tokenizer.index_word) + 1\n",
    "print(f\"Vocabulary size = {vocabSize}\")"
   ]
  },
  {
   "cell_type": "code",
   "execution_count": 8,
   "metadata": {},
   "outputs": [],
   "source": [
    "# Read GloVE embeddings\n",
    "\n",
    "path_to_glove_file = 'glove.6B.200d.txt'\n",
    "num_tokens = vocabSize\n",
    "embedding_dim = 200\n",
    "hits = 0\n",
    "misses = 0\n",
    "embeddings_index = {}"
   ]
  },
  {
   "cell_type": "code",
   "execution_count": 9,
   "metadata": {},
   "outputs": [
    {
     "name": "stdout",
     "output_type": "stream",
     "text": [
      "Found 400000 word vectors.\n"
     ]
    }
   ],
   "source": [
    "# Read word vectors\n",
    "with open(path_to_glove_file, encoding=\"utf-8\") as f:\n",
    "    for line in f:\n",
    "        word, coefs = line.split(maxsplit=1)\n",
    "        coefs = np.fromstring(coefs, \"f\", sep=\" \")\n",
    "        embeddings_index[word] = coefs\n",
    "\n",
    "print(\"Found %s word vectors.\" % len(embeddings_index))"
   ]
  },
  {
   "cell_type": "code",
   "execution_count": 10,
   "metadata": {},
   "outputs": [
    {
     "name": "stdout",
     "output_type": "stream",
     "text": [
      "Converted 12314 words (941 misses)\n"
     ]
    }
   ],
   "source": [
    "# Assign word vectors to our dictionary/vocabulary\n",
    "embedding_matrix = np.zeros((num_tokens, embedding_dim))\n",
    "for word, i in tokenizer.word_index.items():\n",
    "    embedding_vector = embeddings_index.get(word)\n",
    "    if embedding_vector is not None:\n",
    "        # Words not found in embedding index will be all-zeros.\n",
    "        # This includes the representation for \"padding\" and \"OOV\"\n",
    "        embedding_matrix[i] = embedding_vector\n",
    "        hits += 1\n",
    "    else:\n",
    "        misses += 1\n",
    "print(\"Converted %d words (%d misses)\" % (hits, misses))"
   ]
  },
  {
   "cell_type": "code",
   "execution_count": 11,
   "metadata": {},
   "outputs": [
    {
     "name": "stdout",
     "output_type": "stream",
     "text": [
      "Model: \"sequential\"\n",
      "_________________________________________________________________\n",
      " Layer (type)                Output Shape              Param #   \n",
      "=================================================================\n",
      " embedding (Embedding)       (None, 256, 200)          2651200   \n",
      "                                                                 \n",
      " lstm (LSTM)                 (None, 256, 128)          168448    \n",
      "                                                                 \n",
      " lstm_1 (LSTM)               (None, 64)                49408     \n",
      "                                                                 \n",
      " dense (Dense)               (None, 4)                 260       \n",
      "                                                                 \n",
      "=================================================================\n",
      "Total params: 2,869,316\n",
      "Trainable params: 218,116\n",
      "Non-trainable params: 2,651,200\n",
      "_________________________________________________________________\n"
     ]
    }
   ],
   "source": [
    "# Build neural network architecture\n",
    "adam = Adam(learning_rate=0.005)\n",
    "\n",
    "model = Sequential()\n",
    "model.add(Embedding(vocabSize, 200, input_length=X_train.shape[1], weights=[embedding_matrix], trainable=False))\n",
    "model.add(LSTM(128, dropout=0.2, recurrent_dropout=0.2, return_sequences=True))\n",
    "model.add(LSTM(64, dropout=0.2, recurrent_dropout=0.2))\n",
    "model.add(Dense(4, activation='softmax'))  # Change to 4 classes\n",
    "\n",
    "model.compile(loss='categorical_crossentropy', optimizer=adam, metrics=['accuracy'])\n",
    "model.summary()\n",
    "\n",
    "callback = EarlyStopping(\n",
    "    monitor=\"val_loss\",\n",
    "    patience=2,\n",
    "    restore_best_weights=True,\n",
    ")"
   ]
  },
  {
   "cell_type": "code",
   "execution_count": 12,
   "metadata": {},
   "outputs": [
    {
     "name": "stdout",
     "output_type": "stream",
     "text": [
      "Epoch 1/10\n",
      "111/111 [==============================] - 653s 6s/step - loss: 0.6624 - accuracy: 0.7413 - val_loss: 0.2599 - val_accuracy: 0.9189\n",
      "Epoch 2/10\n",
      "111/111 [==============================] - 683s 6s/step - loss: 0.2218 - accuracy: 0.9204 - val_loss: 0.1331 - val_accuracy: 0.9510\n",
      "Epoch 3/10\n",
      "111/111 [==============================] - 733s 7s/step - loss: 0.1264 - accuracy: 0.9513 - val_loss: 0.1000 - val_accuracy: 0.9589\n",
      "Epoch 4/10\n",
      "111/111 [==============================] - 803s 7s/step - loss: 0.0869 - accuracy: 0.9638 - val_loss: 0.1140 - val_accuracy: 0.9577\n",
      "Epoch 5/10\n",
      "111/111 [==============================] - 821s 7s/step - loss: 0.0659 - accuracy: 0.9728 - val_loss: 0.0950 - val_accuracy: 0.9589\n",
      "Epoch 6/10\n",
      "111/111 [==============================] - 856s 8s/step - loss: 0.0580 - accuracy: 0.9739 - val_loss: 0.0886 - val_accuracy: 0.9651\n",
      "Epoch 7/10\n",
      "111/111 [==============================] - 854s 8s/step - loss: 0.0465 - accuracy: 0.9800 - val_loss: 0.0836 - val_accuracy: 0.9668\n",
      "Epoch 8/10\n",
      "111/111 [==============================] - 862s 8s/step - loss: 0.0441 - accuracy: 0.9824 - val_loss: 0.0820 - val_accuracy: 0.9713\n",
      "Epoch 9/10\n",
      "111/111 [==============================] - 863s 8s/step - loss: 0.0373 - accuracy: 0.9848 - val_loss: 0.0880 - val_accuracy: 0.9668\n",
      "Epoch 10/10\n",
      "111/111 [==============================] - 863s 8s/step - loss: 0.0372 - accuracy: 0.9841 - val_loss: 0.0885 - val_accuracy: 0.9668\n",
      "55/55 [==============================] - 10s 173ms/step - loss: 0.0917 - accuracy: 0.9638\n"
     ]
    },
    {
     "data": {
      "text/plain": [
       "[0.09168987721204758, 0.9638139009475708]"
      ]
     },
     "execution_count": 12,
     "metadata": {},
     "output_type": "execute_result"
    }
   ],
   "source": [
    "# Fit model\n",
    "history = model.fit(X_train,\n",
    "                    y_train,\n",
    "                    validation_data=(X_test, y_test),\n",
    "                    verbose=1,\n",
    "                    batch_size=128,\n",
    "                    epochs=10,\n",
    "                    callbacks=[callback]\n",
    "                   )\n",
    "\n",
    "model.evaluate(X_val, y_val, verbose=1)"
   ]
  },
  {
   "cell_type": "code",
   "execution_count": 16,
   "metadata": {},
   "outputs": [
    {
     "data": {
      "image/png": "[encoded data removed]",
      "text/plain": [
       "<Figure size 640x480 with 1 Axes>"
      ]
     },
     "metadata": {},
     "output_type": "display_data"
    },
    {
     "data": {
      "image/png": "[encoded data removed]",
      "text/plain": [
       "<Figure size 640x480 with 1 Axes>"
      ]
     },
     "metadata": {},
     "output_type": "display_data"
    }
   ],
   "source": [
    "# Visualize Loss & Accuracy\n",
    "\n",
    "%matplotlib inline\n",
    "import matplotlib.pyplot as plt\n",
    "acc = history.history['accuracy']\n",
    "val_acc = history.history['val_accuracy']\n",
    "loss = history.history['loss']\n",
    "val_loss = history.history['val_loss']\n",
    "\n",
    "epochs = range(len(acc))\n",
    "\n",
    "plt.plot(epochs, acc, 'r', label='Training accuracy')\n",
    "plt.plot(epochs, val_acc, 'b', label='Validation accuracy')\n",
    "plt.title('Training and validation accuracy')\n",
    "plt.legend()\n",
    "plt.figure()\n",
    "\n",
    "plt.plot(epochs, loss, 'r', label='Training Loss')\n",
    "plt.plot(epochs, val_loss, 'b', label='Validation Loss')\n",
    "plt.title('Training and validation loss')\n",
    "plt.legend()\n",
    "\n",
    "plt.show()"
   ]
  },
  {
   "cell_type": "code",
   "execution_count": 14,
   "metadata": {},
   "outputs": [
    {
     "name": "stdout",
     "output_type": "stream",
     "text": [
      "He's over the moon about being accepted to the university\n",
      "1/1 [==============================] - 1s 875ms/step\n",
      "1/1 [==============================] - 0s 78ms/step\n",
      "joy : 0.9989527463912964\n",
      "\n",
      "\n",
      "Your point on this certain matter made me outrageous, how can you say so? This is insane.\n",
      "1/1 [==============================] - 0s 80ms/step\n",
      "1/1 [==============================] - 0s 78ms/step\n",
      "anger : 0.9175673127174377\n",
      "\n",
      "\n",
      "I can't do it, I'm not ready to lose anything, just leave me alone\n",
      "1/1 [==============================] - 0s 77ms/step\n",
      "1/1 [==============================] - 0s 70ms/step\n",
      "anger : 0.552254319190979\n",
      "\n",
      "\n",
      "Merlin's beard harry, you can cast the Patronus charm! I'm amazed!\n",
      "1/1 [==============================] - 0s 77ms/step\n",
      "1/1 [==============================] - 0s 70ms/step\n",
      "joy : 0.7899337410926819\n",
      "\n",
      "\n"
     ]
    }
   ],
   "source": [
    "sentences = [\n",
    "            \"He's over the moon about being accepted to the university\",\n",
    "            \"Your point on this certain matter made me outrageous, how can you say so? This is insane.\",\n",
    "            \"I can't do it, I'm not ready to lose anything, just leave me alone\",\n",
    "            \"Merlin's beard harry, you can cast the Patronus charm! I'm amazed!\"\n",
    "            ]\n",
    "for sentence in sentences:\n",
    "    print(sentence)\n",
    "    preprocessed_sentence = preprocess_text(sentence)  # Preprocess the sentence\n",
    "    tokenized_sentence = tokenizer.texts_to_sequences([preprocessed_sentence])  # Tokenize the preprocessed sentence\n",
    "    padded_sentence = pad_sequences(tokenized_sentence, maxlen=256, truncating='pre')  # Pad the tokenized sentence\n",
    "    result = le.inverse_transform(np.argmax(model.predict(padded_sentence), axis=-1))[0]  # Predict emotion\n",
    "    proba =  np.max(model.predict(padded_sentence))  # Get probability\n",
    "    print(f\"{result} : {proba}\\n\\n\")"
   ]
  },
  {
   "cell_type": "code",
   "execution_count": 15,
   "metadata": {},
   "outputs": [],
   "source": [
    "import pickle\n",
    "with open('tokenizer.pickle', 'wb') as f:\n",
    "    pickle.dump(tokenizer, f)\n",
    "    \n",
    "with open('labelEncoder.pickle', 'wb') as f:\n",
    "    pickle.dump(le, f)\n",
    "    \n",
    "    \n",
    "model.save('emotion-detection-2.h5')"
   ]
  },
  {
   "cell_type": "code",
   "execution_count": 2,
   "metadata": {},
   "outputs": [
    {
     "name": "stderr",
     "output_type": "stream",
     "text": [
      "[nltk_data] Downloading package punkt to\n",
      "[nltk_data]     C:\\Users\\User\\AppData\\Roaming\\nltk_data...\n",
      "[nltk_data]   Package punkt is already up-to-date!\n",
      "[nltk_data] Downloading package wordnet to\n",
      "[nltk_data]     C:\\Users\\User\\AppData\\Roaming\\nltk_data...\n",
      "[nltk_data]   Package wordnet is already up-to-date!\n",
      "[nltk_data] Downloading package stopwords to\n",
      "[nltk_data]     C:\\Users\\User\\AppData\\Roaming\\nltk_data...\n",
      "[nltk_data]   Package stopwords is already up-to-date!\n"
     ]
    },
    {
     "name": "stdout",
     "output_type": "stream",
     "text": [
      "1/1 [==============================] - 1s 986ms/step\n",
      "1/1 [==============================] - 0s 98ms/step\n",
      "Predicted Emotion: joy, Probability: 0.8479398488998413\n"
     ]
    }
   ],
   "source": [
    "import re\n",
    "import string\n",
    "import numpy as np\n",
    "import nltk\n",
    "from nltk.corpus import stopwords\n",
    "from nltk.tokenize import word_tokenize\n",
    "from nltk.stem import WordNetLemmatizer\n",
    "from tensorflow.keras.models import load_model\n",
    "from tensorflow.keras.preprocessing.sequence import pad_sequences\n",
    "import pickle\n",
    "\n",
    "nltk.download('punkt')\n",
    "nltk.download('wordnet')\n",
    "nltk.download('stopwords')\n",
    "\n",
    "stop_words = set(stopwords.words('english'))\n",
    "lemmatizer = WordNetLemmatizer()\n",
    "\n",
    "with open('tokenizer.pickle', 'rb') as f:\n",
    "    tokenizer = pickle.load(f)\n",
    "\n",
    "with open('labelEncoder.pickle', 'rb') as f:\n",
    "    le = pickle.load(f)\n",
    "\n",
    "model = load_model('emotion-detection-2.h5')\n",
    "\n",
    "def clean(text):\n",
    "    str_punc = string.punctuation.replace(',', '').replace(\"'\",'')\n",
    "    text = re.sub(r'[^a-zA-Z\\s]', '', text)  # Remove punctuations except spaces\n",
    "    text = text.lower()\n",
    "    return text    \n",
    "\n",
    "def preprocess_text(text):\n",
    "    text = clean(text)\n",
    "    tokens = word_tokenize(text)\n",
    "    tokens = [word for word in tokens if word not in stop_words]\n",
    "    tokens = [lemmatizer.lemmatize(word) for word in tokens]\n",
    "    return ' '.join(tokens)\n",
    "\n",
    "def predict_emotion(sentence):\n",
    "    sentence = preprocess_text(sentence)\n",
    "    sentence = tokenizer.texts_to_sequences([sentence])\n",
    "    sentence = pad_sequences(sentence, maxlen=256, truncating='pre')\n",
    "    result = le.inverse_transform(np.argmax(model.predict(sentence), axis=-1))[0]\n",
    "    proba =  np.max(model.predict(sentence))\n",
    "    return result, proba\n",
    "\n",
    "sentence = input(\"Enter a sentence: \")\n",
    "emotion, probability = predict_emotion(sentence)\n",
    "print(f'Predicted Emotion: {emotion}, Probability: {probability}')"
   ]
  },
  {
   "cell_type": "code",
   "execution_count": 3,
   "metadata": {},
   "outputs": [
    {
     "name": "stderr",
     "output_type": "stream",
     "text": [
      "[nltk_data] Downloading package punkt to\n",
      "[nltk_data]     C:\\Users\\User\\AppData\\Roaming\\nltk_data...\n",
      "[nltk_data]   Package punkt is already up-to-date!\n",
      "[nltk_data] Downloading package wordnet to\n",
      "[nltk_data]     C:\\Users\\User\\AppData\\Roaming\\nltk_data...\n",
      "[nltk_data]   Package wordnet is already up-to-date!\n",
      "[nltk_data] Downloading package stopwords to\n",
      "[nltk_data]     C:\\Users\\User\\AppData\\Roaming\\nltk_data...\n",
      "[nltk_data]   Package stopwords is already up-to-date!\n"
     ]
    },
    {
     "name": "stdout",
     "output_type": "stream",
     "text": [
      "1/1 [==============================] - 1s 757ms/step\n",
      "1/1 [==============================] - 0s 72ms/step\n"
     ]
    }
   ],
   "source": [
    "import tkinter as tk\n",
    "from tkinter import messagebox\n",
    "import re\n",
    "import string\n",
    "import numpy as np\n",
    "import nltk\n",
    "from nltk.corpus import stopwords\n",
    "from nltk.tokenize import word_tokenize\n",
    "from nltk.stem import WordNetLemmatizer\n",
    "from tensorflow.keras.models import load_model\n",
    "import pickle\n",
    "\n",
    "nltk.download('punkt')\n",
    "nltk.download('wordnet')\n",
    "nltk.download('stopwords')\n",
    "\n",
    "stop_words = set(stopwords.words('english'))\n",
    "lemmatizer = WordNetLemmatizer()\n",
    "\n",
    "with open('tokenizer.pickle', 'rb') as f:\n",
    "    tokenizer = pickle.load(f)\n",
    "\n",
    "with open('labelEncoder.pickle', 'rb') as f:\n",
    "    le = pickle.load(f)\n",
    "\n",
    "model = load_model('emotion-detection-2.h5')\n",
    "\n",
    "def clean(text):\n",
    "    str_punc = string.punctuation.replace(',', '').replace(\"'\",'')\n",
    "    text = re.sub(r'[^a-zA-Z\\s]', '', text)  \n",
    "    text = text.lower()\n",
    "    return text    \n",
    "\n",
    "def preprocess_text(text):\n",
    "    text = clean(text)\n",
    "    tokens = word_tokenize(text)\n",
    "    tokens = [word for word in tokens if word not in stop_words]\n",
    "    tokens = [lemmatizer.lemmatize(word) for word in tokens]\n",
    "    return ' '.join(tokens)\n",
    "\n",
    "def predict_emotion(sentence):\n",
    "    sentence = preprocess_text(sentence)\n",
    "    sentence = tokenizer.texts_to_sequences([sentence])\n",
    "    sentence = pad_sequences(sentence, maxlen=256, truncating='pre')\n",
    "    predictions = model.predict(sentence)[0]\n",
    "    result_index = np.argmax(predictions)\n",
    "    result_label = le.inverse_transform([result_index])[0]\n",
    "    confidence_rate = predictions[result_index]\n",
    "    return result_label, confidence_rate, predictions\n",
    "\n",
    "def predict():\n",
    "    sentence = entry.get()\n",
    "    if sentence.strip() == \"\":\n",
    "        messagebox.showwarning(\"Warning\", \"Please enter a sentence.\")\n",
    "    else:\n",
    "        emotion, confidence, predictions = predict_emotion(sentence)\n",
    "        other_emotions = [f\"{label}: {round(confidence * 100, 2)}%\" for label, confidence in zip(le.classes_, predictions)]\n",
    "        other_emotions = \"\\n\".join(other_emotions)\n",
    "        messagebox.showinfo(\"Prediction Result\", f\"Predicted Emotion: {emotion}\\nConfidence Rate: {round(confidence * 100, 2)}%\\n\\nOther Emotions:\\n{other_emotions}\")\n",
    "\n",
    "root = tk.Tk()\n",
    "root.title(\"Emotion Prediction\")\n",
    "\n",
    "label = tk.Label(root, text=\"Enter a sentence:\")\n",
    "label.pack()\n",
    "entry = tk.Entry(root, width=50)\n",
    "entry.pack()\n",
    "\n",
    "button = tk.Button(root, text=\"Predict\", command=predict)\n",
    "button.pack()\n",
    "\n",
    "# Run the GUI\n",
    "root.mainloop()"
   ]
  }
 ],
 "metadata": {
  "kernelspec": {
   "display_name": "Python 3",
   "language": "python",
   "name": "python3"
  },
  "language_info": {
   "codemirror_mode": {
    "name": "ipython",
    "version": 3
   },
   "file_extension": ".py",
   "mimetype": "text/x-python",
   "name": "python",
   "nbconvert_exporter": "python",
   "pygments_lexer": "ipython3",
   "version": "3.10.4"
  },
  "orig_nbformat": 4,
  "vscode": {
   "interpreter": {
    "hash": "afb734500600fd355917ca529030176ea0ca205570884b88f2f6f7d791fd3fbe"
   }
  }
 },
 "nbformat": 4,
 "nbformat_minor": 2
}
